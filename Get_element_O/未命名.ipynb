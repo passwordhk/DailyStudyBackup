{
 "cells": [
  {
   "cell_type": "code",
   "execution_count": 1,
   "metadata": {},
   "outputs": [],
   "source": [
    "import pandas as pd\n",
    "import numpy as np\n",
    "import re"
   ]
  },
  {
   "cell_type": "code",
   "execution_count": 2,
   "metadata": {},
   "outputs": [
    {
     "name": "stdin",
     "output_type": "stream",
     "text": [
      "请输入您需要的导出类型:(输入数字)\n",
      "1：含C分子数据表\n",
      "2：大分子数据表\n",
      "3：小分子数据表\n",
      "4：全部\n",
      "请输入: 3\n"
     ]
    },
    {
     "name": "stdout",
     "output_type": "stream",
     "text": [
      "Done!\n"
     ]
    }
   ],
   "source": [
    "def out_C_included():\n",
    "    C_included.to_csv('O_element.out',index=0)\n",
    "def out_huge_molecue():\n",
    "    huge.to_csv('huge_molecue.out',index=0)\n",
    "def out_tiny_molecue():\n",
    "    tiny_molecue.to_csv('tiny_molecue.out',index=0)\n",
    "    \n",
    "    \n",
    "# 初始化数据    \n",
    "df = pd.read_csv(r'/Users/huangkai/Desktop/fra.out',sep='\\t',engine='python')\n",
    "col = df.columns.values.tolist()[1:]\n",
    "if col[-1].startswith('Unname'):\n",
    "    df.drop(columns=col[-1],inplace=True)\n",
    "    col = df.columns.values.tolist()[1:]\n",
    "# 获取含C分子   \n",
    "C_list = []\n",
    "for i in col:\n",
    "    if i.startswith('C'):\n",
    "        C_list.append(i)\n",
    "# 获取C5+分子\n",
    "huge_molecue = []\n",
    "for i in C_list:\n",
    "    if i.startswith('CH') or i.startswith('CO'):\n",
    "        continue\n",
    "    if i == 'C':\n",
    "        continue\n",
    "    m = re.search(r'(?!C)\\d+',i)\n",
    "    a = m.group(0)\n",
    "    if int(a)>4:\n",
    "        huge_molecue.append(i)\n",
    "# 获取小分子\n",
    "temp_li = [i for i in col if i not in huge_molecue]\n",
    "# 获取大分子DataFrame\n",
    "huge = df.drop(columns=temp_li)\n",
    "# 获取小分子DataFrame\n",
    "tiny_molecue = df.drop(columns=huge_molecue)\n",
    "# 获取含C分子DataFrame\n",
    "delete_col = []\n",
    "for i in col[1:]:\n",
    "    if 'O' not in i:\n",
    "        delete_col.append(i)\n",
    "C_included = df.drop(columns=delete_col)\n",
    "try:\n",
    "    trigger = input('请输入您需要的导出类型:(输入数字)\\n1：含C分子数据表\\n2：大分子数据表\\n3：小分子数据表\\n4：全部\\n请输入:')\n",
    "    if trigger == '1':\n",
    "        out_C_included()\n",
    "        print('Done!')\n",
    "    elif trigger == '2':\n",
    "        out_huge_molecue()\n",
    "        print('Done!')\n",
    "    elif trigger == '3':\n",
    "        out_tiny_molecue()\n",
    "        print('Done!')\n",
    "    elif trigger == '4':\n",
    "        out_C_included()\n",
    "        out_huge_molecue()\n",
    "        out_tiny_molecue()\n",
    "        print('Done!')\n",
    "except Exception as e:\n",
    "    print('请正确输入')"
   ]
  },
  {
   "cell_type": "code",
   "execution_count": null,
   "metadata": {},
   "outputs": [],
   "source": []
  }
 ],
 "metadata": {
  "kernelspec": {
   "display_name": "Python 3",
   "language": "python",
   "name": "python3"
  },
  "language_info": {
   "codemirror_mode": {
    "name": "ipython",
    "version": 3
   },
   "file_extension": ".py",
   "mimetype": "text/x-python",
   "name": "python",
   "nbconvert_exporter": "python",
   "pygments_lexer": "ipython3",
   "version": "3.7.2"
  }
 },
 "nbformat": 4,
 "nbformat_minor": 2
}
