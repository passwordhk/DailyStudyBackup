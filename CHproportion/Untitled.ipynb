{
 "cells": [
  {
   "cell_type": "code",
   "execution_count": 1,
   "metadata": {},
   "outputs": [],
   "source": [
    "def cal_mass(formula):\n",
    "  MM_of_Elements = {'H': 1.00794, 'He': 4.002602, 'Li': 6.941, 'Be': 9.012182, 'B': 10.811, 'C': 12.0107, 'N': 14.0067,\n",
    "                'O': 15.9994, 'F': 18.9984032, 'Ne': 20.1797, 'Na': 22.98976928, 'Mg': 24.305, 'Al': 26.9815386,\n",
    "                'Si': 28.0855, 'P': 30.973762, 'S': 32.065, 'Cl': 35.453, 'Ar': 39.948, 'K': 39.0983, 'Ca': 40.078,\n",
    "                'Sc': 44.955912, 'Ti': 47.867, 'V': 50.9415, 'Cr': 51.9961, 'Mn': 54.938045,\n",
    "                'Fe': 55.845, 'Co': 58.933195, 'Ni': 58.6934, 'Cu': 63.546, 'Zn': 65.409, 'Ga': 69.723, 'Ge': 72.64,\n",
    "                'As': 74.9216, 'Se': 78.96, 'Br': 79.904, 'Kr': 83.798, 'Rb': 85.4678, 'Sr': 87.62, 'Y': 88.90585,\n",
    "                'Zr': 91.224, 'Nb': 92.90638, 'Mo': 95.94, 'Tc': 98.9063, 'Ru': 101.07, 'Rh': 102.9055, 'Pd': 106.42,\n",
    "                'Ag': 107.8682, 'Cd': 112.411, 'In': 114.818, 'Sn': 118.71, 'Sb': 121.760, 'Te': 127.6,\n",
    "                'I': 126.90447, 'Xe': 131.293, 'Cs': 132.9054519, 'Ba': 137.327, 'La': 138.90547, 'Ce': 140.116,\n",
    "                'Pr': 140.90465, 'Nd': 144.242, 'Pm': 146.9151, 'Sm': 150.36, 'Eu': 151.964, 'Gd': 157.25,\n",
    "                'Tb': 158.92535, 'Dy': 162.5, 'Ho': 164.93032, 'Er': 167.259, 'Tm': 168.93421, 'Yb': 173.04,\n",
    "                'Lu': 174.967, 'Hf': 178.49, 'Ta': 180.9479, 'W': 183.84, 'Re': 186.207, 'Os': 190.23, 'Ir': 192.217,\n",
    "                'Pt': 195.084, 'Au': 196.966569, 'Hg': 200.59, 'Tl': 204.3833, 'Pb': 207.2, 'Bi': 208.9804,\n",
    "                'Po': 208.9824, 'At': 209.9871, 'Rn': 222.0176, 'Fr': 223.0197, 'Ra': 226.0254, 'Ac': 227.0278,\n",
    "                'Th': 232.03806, 'Pa': 231.03588, 'U': 238.02891, 'Np': 237.0482, 'Pu': 244.0642, 'Am': 243.0614,\n",
    "                'Cm': 247.0703, 'Bk': 247.0703, 'Cf': 251.0796, 'Es': 252.0829, 'Fm': 257.0951, 'Md': 258.0951,\n",
    "                'No': 259.1009, 'Lr': 262, 'Rf': 267, 'Db': 268, 'Sg': 271, 'Bh': 270, 'Hs': 269, 'Mt': 278,\n",
    "                'Ds': 281, 'Rg': 281, 'Cn': 285, 'Nh': 284, 'Fl': 289, 'Mc': 289, 'Lv': 292, 'Ts': 294, 'Og': 294,\n",
    "                'ZERO': 0}\n",
    "\n",
    "  Compound = formula\n",
    "  IsPolyatomic, End, Multiply = False, False, False\n",
    "  PolyatomicMass, MM, Multiplier = 0, 0, 1\n",
    "  Element = 'ZERO'\n",
    "\n",
    "  for i in range(0, len(Compound) + 1):\n",
    "    E = Compound[i:i + 1]\n",
    "    if IsPolyatomic:\n",
    "        if End:\n",
    "            IsPolyatomic = False\n",
    "            MM += int(E) * PolyatomicMass\n",
    "        elif E.isdigit():\n",
    "            if Multiply: Multiplier = int(str(Multiplier) + E)\n",
    "            else: Multiplier = int(E)\n",
    "            Multiply = True\n",
    "        elif E.islower(): Element += E\n",
    "        elif E.isupper():\n",
    "            PolyatomicMass += Multiplier * MM_of_Elements[Element]\n",
    "            Element, Multiplier, Multiply = E, 1, False\n",
    "        elif E == ')':\n",
    "            PolyatomicMass += Multiplier * MM_of_Elements[Element]\n",
    "            Element, Multiplier = 'ZERO', 1\n",
    "            End, Multiply = True, False\n",
    "    elif E == '(':\n",
    "        MM += Multiplier * MM_of_Elements[Element]\n",
    "        Element, Multiplier = 'ZERO', 1\n",
    "        IsPolyatomic, Multiply = True, False\n",
    "    elif E.isdigit():\n",
    "        if Multiply:\n",
    "            Multiplier = int(str(Multiplier) + E)\n",
    "        else: Multiplier = int(E)\n",
    "        Multiply = True\n",
    "    elif E.islower(): Element += E\n",
    "    elif E.isupper():\n",
    "        MM += Multiplier * MM_of_Elements[Element]\n",
    "        Element, Multiplier, Multiply = E, 1, False\n",
    "    elif i == len(Compound):\n",
    "        MM += Multiplier * MM_of_Elements[Element]\n",
    "        Element, Multiplier, Multiply = E, 1, False\n",
    "  return MM"
   ]
  },
  {
   "cell_type": "code",
   "execution_count": 3,
   "metadata": {},
   "outputs": [
    {
     "data": {
      "text/plain": [
       "18.01528"
      ]
     },
     "execution_count": 3,
     "metadata": {},
     "output_type": "execute_result"
    }
   ],
   "source": [
    "cal_mass('H2O')"
   ]
  },
  {
   "cell_type": "code",
   "execution_count": null,
   "metadata": {},
   "outputs": [],
   "source": []
  }
 ],
 "metadata": {
  "kernelspec": {
   "display_name": "Python 3",
   "language": "python",
   "name": "python3"
  },
  "language_info": {
   "codemirror_mode": {
    "name": "ipython",
    "version": 3
   },
   "file_extension": ".py",
   "mimetype": "text/x-python",
   "name": "python",
   "nbconvert_exporter": "python",
   "pygments_lexer": "ipython3",
   "version": "3.7.2"
  }
 },
 "nbformat": 4,
 "nbformat_minor": 2
}
