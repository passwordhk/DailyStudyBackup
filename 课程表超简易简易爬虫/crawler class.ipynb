{
 "cells": [
  {
   "cell_type": "code",
   "execution_count": 65,
   "metadata": {},
   "outputs": [],
   "source": [
    "import urllib.request as urlrequest\n",
    "from bs4 import BeautifulSoup\n",
    "import re"
   ]
  },
  {
   "cell_type": "code",
   "execution_count": 12,
   "metadata": {},
   "outputs": [],
   "source": [
    "websit_data = urlrequest.urlopen('http://aat1.gwyby.cn/ahut/newzf.php?username=159144167&password=342427199706145213')"
   ]
  },
  {
   "cell_type": "code",
   "execution_count": 14,
   "metadata": {},
   "outputs": [],
   "source": [
    "soup = BeautifulSoup(websit_data,'html.parser')"
   ]
  },
  {
   "cell_type": "code",
   "execution_count": 15,
   "metadata": {},
   "outputs": [
    {
     "data": {
      "text/plain": [
       "<!-- <meta name=\"viewport\" content=\"width=device-width,initial-scale=1.0,maximum-scale=1.0,minimum-scale=1.0,user-scalable=no\"> -->\n",
       "<!-- <style>\n",
       "body{\n",
       "    width: 97%;\n",
       "}\n",
       "\n",
       "#Table1{\n",
       "    background-color: white;\n",
       "    width: 98%;\n",
       "    font-size: 10px;\n",
       "}\n",
       "\n",
       "#Table1 tr td{\n",
       "    box-shadow: 0 0 5px 0;\n",
       "    border-radius: 8px;\n",
       "    margin: 1px 1px 1px 1px;\n",
       "}\n",
       "</style> -->\n",
       "<!DOCTYPE html>\n",
       "\n",
       "<html>\n",
       "<head>\n",
       "<meta charset=\"utf-8\"/>\n",
       "<meta content=\"width=device-width,initial-scale=1.0,maximum-scale=1.0,minimum-scale=1.0,user-scalable=no\" name=\"viewport\"/>\n",
       "<link href=\"style/main.css\" rel=\"stylesheet\" type=\"text/css\"/>\n",
       "<script src=\"script/zepto.min.js\" type=\"text/javascript\"></script>\n",
       "<script src=\"script/flexiable.js\" type=\"text/javascript\"></script>\n",
       "<script src=\"script/timetable.js\" type=\"text/javascript\"></script>\n",
       "<title>课表</title>\n",
       "<style>\n",
       "  body{\n",
       "    width: 100%;\n",
       "  }\n",
       "  .container{\n",
       "    width: 100%;\n",
       "  }\n",
       "</style>\n",
       "</head>\n",
       "<body>\n",
       "<div>\n",
       "<div class=\"container\">\n",
       "<div id=\"table1\"></div>\n",
       "</div>\n",
       "</div>\n",
       "</body>\n",
       "<script type=\"text/javascript\">\n",
       "\n",
       "  console.log(\"charCodeAt()\");\n",
       "\n",
       "  /*\n",
       "    week代表星期几上课，\n",
       "    seq代表第几节，\n",
       "    dur表示上课长度，如2代表连上2节，\n",
       "    evt代表具体内容。\n",
       "  */\n",
       "  // var datas= [\n",
       "  //   { \"week\": 1, \"seq\": 1, \"dur\": 2, \"evt\": \"Linux操作系统与程序设计@逸夫楼402啥什么\" },\n",
       "  //   { \"week\": 1, \"seq\": 5, \"dur\": 2, \"evt\": \"高等数学@1教-502\" },\n",
       "  //   { \"week\": 2, \"seq\": 1, \"dur\": 2, \"evt\": \"高等数学@1教-502\"},\n",
       "  //   { \"week\": 3, \"seq\": 1, \"dur\": 2, \"evt\": \"高等数学@1教-502\" },\n",
       "  //   { \"week\": 3, \"seq\": 3, \"dur\": 2, \"evt\": \"高等数学@1教-502\" },\n",
       "  //   { \"week\": 3, \"seq\": 5, \"dur\": 2, \"evt\": \"高等数学@1教-502\" },\n",
       "  //   { \"week\": 3, \"seq\": 7, \"dur\": 2, \"evt\": \"高等数学@1教-502\" },\n",
       "  //   { \"week\": 3, \"seq\": 9, \"dur\": 3, \"evt\": \"高等数学@1教-502\" },\n",
       "  //   { \"week\": 4, \"seq\": 1, \"dur\": 2, \"evt\": \"高等数学@1教-502\" },\n",
       "  //   { \"week\": 4, \"seq\": 3, \"dur\": 2, \"evt\": \"高等数学@1教-502\" },\n",
       "  //   { \"week\": 5, \"seq\": 1, \"dur\": 2, \"evt\": \"高等数学@1教-502\" },\n",
       "  //   { \"week\": 6, \"seq\": 3, \"dur\": 2, \"evt\": \"高等数学@1教-502\" },\n",
       "  //   { \"week\": 7, \"seq\": 5, \"dur\": 2, \"evt\": \"高等数学@1教-502\" },\n",
       "  // ];\n",
       "\n",
       "  var datas = [{ \"week\": 3, \"seq\": 1, \"dur\": 2, \"evt\": \"工业电炉@教三北114\" },{ \"week\": 5, \"seq\": 3, \"dur\": 2, \"evt\": \"工业电炉@教三北114\" }];\n",
       "\n",
       "\n",
       "  $(\"#table1\").timeTable({\n",
       "    classNum:\"12\",\n",
       "    wlist:datas\n",
       "  });\n",
       "\n",
       "// $(\"#table1 td\").style = \"border-radius: 8px;margin: 3px;\";\n",
       "\n",
       "</script>\n",
       "</html>"
      ]
     },
     "execution_count": 15,
     "metadata": {},
     "output_type": "execute_result"
    }
   ],
   "source": [
    "soup"
   ]
  },
  {
   "cell_type": "code",
   "execution_count": 58,
   "metadata": {},
   "outputs": [],
   "source": [
    "lesson=soup.findAll(attrs={'type':'text/javascript'})"
   ]
  },
  {
   "cell_type": "code",
   "execution_count": 64,
   "metadata": {},
   "outputs": [
    {
     "data": {
      "text/plain": [
       "'\\r\\n\\r\\n  console.log(\"charCodeAt()\");\\r\\n\\r\\n  /*\\r\\n    week代表星期几上课，\\r\\n    seq代表第几节，\\r\\n    dur表示上课长度，如2代表连上2节，\\r\\n    evt代表具体内容。\\r\\n  */\\r\\n  // var datas= [\\r\\n  //   { \"week\": 1, \"seq\": 1, \"dur\": 2, \"evt\": \"Linux操作系统与程序设计@逸夫楼402啥什么\" },\\r\\n  //   { \"week\": 1, \"seq\": 5, \"dur\": 2, \"evt\": \"高等数学@1教-502\" },\\r\\n  //   { \"week\": 2, \"seq\": 1, \"dur\": 2, \"evt\": \"高等数学@1教-502\"},\\r\\n  //   { \"week\": 3, \"seq\": 1, \"dur\": 2, \"evt\": \"高等数学@1教-502\" },\\r\\n  //   { \"week\": 3, \"seq\": 3, \"dur\": 2, \"evt\": \"高等数学@1教-502\" },\\r\\n  //   { \"week\": 3, \"seq\": 5, \"dur\": 2, \"evt\": \"高等数学@1教-502\" },\\r\\n  //   { \"week\": 3, \"seq\": 7, \"dur\": 2, \"evt\": \"高等数学@1教-502\" },\\r\\n  //   { \"week\": 3, \"seq\": 9, \"dur\": 3, \"evt\": \"高等数学@1教-502\" },\\r\\n  //   { \"week\": 4, \"seq\": 1, \"dur\": 2, \"evt\": \"高等数学@1教-502\" },\\r\\n  //   { \"week\": 4, \"seq\": 3, \"dur\": 2, \"evt\": \"高等数学@1教-502\" },\\r\\n  //   { \"week\": 5, \"seq\": 1, \"dur\": 2, \"evt\": \"高等数学@1教-502\" },\\r\\n  //   { \"week\": 6, \"seq\": 3, \"dur\": 2, \"evt\": \"高等数学@1教-502\" },\\r\\n  //   { \"week\": 7, \"seq\": 5, \"dur\": 2, \"evt\": \"高等数学@1教-502\" },\\r\\n  // ];\\r\\n\\r\\n  var datas = [{ \"week\": 3, \"seq\": 1, \"dur\": 2, \"evt\": \"工业电炉@教三北114\" },{ \"week\": 5, \"seq\": 3, \"dur\": 2, \"evt\": \"工业电炉@教三北114\" }];\\r\\n\\r\\n\\r\\n  $(\"#table1\").timeTable({\\r\\n    classNum:\"12\",\\r\\n    wlist:datas\\r\\n  });\\r\\n\\r\\n// $(\"#table1 td\").style = \"border-radius: 8px;margin: 3px;\";\\r\\n\\r\\n'"
      ]
     },
     "execution_count": 64,
     "metadata": {},
     "output_type": "execute_result"
    }
   ],
   "source": [
    "lesson[3].get_text()"
   ]
  },
  {
   "cell_type": "code",
   "execution_count": 73,
   "metadata": {},
   "outputs": [
    {
     "data": {
      "text/plain": [
       "[' datas = [{ \"week\": 3, \"seq\": 1, \"dur\": 2, \"evt\": \"工业电炉@教三北114\" },{ \"week\": 5, \"seq\": 3, \"dur\": 2, \"evt\": \"工业电炉@教三北114\" }']"
      ]
     },
     "execution_count": 73,
     "metadata": {},
     "output_type": "execute_result"
    }
   ],
   "source": [
    "class_table = re.findall('.*var(.*)].*',lesson[3].get_text()) # 正则大发好\n",
    "class_table"
   ]
  },
  {
   "cell_type": "code",
   "execution_count": 75,
   "metadata": {},
   "outputs": [
    {
     "ename": "ValueError",
     "evalue": "dictionary update sequence element #0 has length 1; 2 is required",
     "output_type": "error",
     "traceback": [
      "\u001b[0;31m-------------------------------------------------------------------------\u001b[0m",
      "\u001b[0;31mValueError\u001b[0m                              Traceback (most recent call last)",
      "\u001b[0;32m<ipython-input-75-d7a0785e1fc8>\u001b[0m in \u001b[0;36m<module>\u001b[0;34m()\u001b[0m\n\u001b[0;32m----> 1\u001b[0;31m \u001b[0mdict\u001b[0m\u001b[0;34m(\u001b[0m\u001b[0mclass_table\u001b[0m\u001b[0;34m[\u001b[0m\u001b[0;36m0\u001b[0m\u001b[0;34m]\u001b[0m\u001b[0;34m)\u001b[0m\u001b[0;34m\u001b[0m\u001b[0;34m\u001b[0m\u001b[0m\n\u001b[0m",
      "\u001b[0;31mValueError\u001b[0m: dictionary update sequence element #0 has length 1; 2 is required"
     ]
    }
   ],
   "source": [
    "dict(class_table[0])"
   ]
  },
  {
   "cell_type": "code",
   "execution_count": null,
   "metadata": {},
   "outputs": [],
   "source": []
  }
 ],
 "metadata": {
  "kernelspec": {
   "display_name": "Python 3",
   "language": "python",
   "name": "python3"
  },
  "language_info": {
   "codemirror_mode": {
    "name": "ipython",
    "version": 3
   },
   "file_extension": ".py",
   "mimetype": "text/x-python",
   "name": "python",
   "nbconvert_exporter": "python",
   "pygments_lexer": "ipython3",
   "version": "3.7.2"
  }
 },
 "nbformat": 4,
 "nbformat_minor": 2
}
