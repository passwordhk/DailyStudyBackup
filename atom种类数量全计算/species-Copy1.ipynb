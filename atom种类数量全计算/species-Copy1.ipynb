{
 "cells": [
  {
   "cell_type": "code",
   "execution_count": 1,
   "metadata": {},
   "outputs": [],
   "source": [
    "import linecache\n",
    "# import os\n",
    "# import re\n",
    "# import seaborn as sns\n",
    "# import matplotlib.pyplot as plt\n",
    "# import pandas as pd\n",
    "# import numpy as np\n",
    "# %matplotlib inline"
   ]
  },
  {
   "cell_type": "code",
   "execution_count": 2,
   "metadata": {},
   "outputs": [],
   "source": [
    "path = '/Users/huangkai/Desktop/species.out'"
   ]
  },
  {
   "cell_type": "code",
   "execution_count": 3,
   "metadata": {},
   "outputs": [
    {
     "data": {
      "text/plain": [
       "<function TextIOWrapper.close()>"
      ]
     },
     "execution_count": 3,
     "metadata": {},
     "output_type": "execute_result"
    }
   ],
   "source": [
    "content = ''\n",
    "cache_data = linecache.getlines(path)\n",
    "for line in range(len(cache_data)):\n",
    "    content += cache_data[line].replace('#','')\n",
    "f = open('middle.out','w')\n",
    "f.write(content)\n",
    "f.close"
   ]
  },
  {
   "cell_type": "code",
   "execution_count": 4,
   "metadata": {},
   "outputs": [],
   "source": [
    "data = linecache.getlines('/Users/huangkai/Documents/DailyStudyBackup/atom有序化/middle.out')\n",
    "# for row in data:\n",
    "#     print(row.split())\n",
    "odd_row_raw = data[::2]\n",
    "even_row_raw = data[1::2]"
   ]
  },
  {
   "cell_type": "code",
   "execution_count": 5,
   "metadata": {},
   "outputs": [],
   "source": [
    "odd_row = []\n",
    "even_row = []\n",
    "for i,j in zip(even_row_raw,odd_row_raw):\n",
    "    even_row.append(i.strip().split())\n",
    "    odd_row.append(j.strip().split())"
   ]
  },
  {
   "cell_type": "code",
   "execution_count": 19,
   "metadata": {},
   "outputs": [],
   "source": [
    "#odd_row"
   ]
  },
  {
   "cell_type": "code",
   "execution_count": 20,
   "metadata": {},
   "outputs": [],
   "source": [
    "#even_row"
   ]
  },
  {
   "cell_type": "code",
   "execution_count": 17,
   "metadata": {},
   "outputs": [],
   "source": [
    "formula = set()\n",
    "for i in odd_row:\n",
    "    for j in i[3:]:\n",
    "        formula.add(j)\n",
    "# print(formula)\n",
    "li = list(formula)\n",
    "li.sort()\n",
    "header = ['Timestep','No_Moles','No_Specs']\n",
    "new_column = header + li\n",
    "# print(new_column)\n",
    "templet_dict = dict.fromkeys(new_column,'')\n",
    "a = ''\n",
    "for i in new_column:\n",
    "    a += ''.join('{%s} ' % i)\n",
    "templet_row = ','.join(a.rstrip().split())\n",
    "# print(a)\n",
    "b = ''\n",
    "for j in new_column:\n",
    "    b += j+','\n",
    "first_row = b.rstrip(',')"
   ]
  },
  {
   "cell_type": "code",
   "execution_count": 21,
   "metadata": {},
   "outputs": [],
   "source": [
    "f = open('out.csv','a+')\n",
    "f.write(first_row+'\\n')\n",
    "for i,j in zip(odd_row,even_row):\n",
    "    tem_dict = dict(zip(i, j))\n",
    "#     print(tem_dict)\n",
    "    middle = templet_dict\n",
    "    for key,value in tem_dict.items():\n",
    "        templet_dict[key] = value\n",
    "    w = templet_row.format(**middle)\n",
    "    f.write(w+'\\n')\n",
    "f.close()\n",
    "\n",
    "    "
   ]
  },
  {
   "cell_type": "code",
   "execution_count": null,
   "metadata": {},
   "outputs": [],
   "source": []
  },
  {
   "cell_type": "code",
   "execution_count": null,
   "metadata": {},
   "outputs": [],
   "source": []
  },
  {
   "cell_type": "code",
   "execution_count": null,
   "metadata": {},
   "outputs": [],
   "source": []
  },
  {
   "cell_type": "code",
   "execution_count": null,
   "metadata": {},
   "outputs": [],
   "source": []
  },
  {
   "cell_type": "code",
   "execution_count": null,
   "metadata": {},
   "outputs": [],
   "source": []
  },
  {
   "cell_type": "code",
   "execution_count": null,
   "metadata": {},
   "outputs": [],
   "source": []
  }
 ],
 "metadata": {
  "kernelspec": {
   "display_name": "Python 3",
   "language": "python",
   "name": "python3"
  },
  "language_info": {
   "codemirror_mode": {
    "name": "ipython",
    "version": 3
   },
   "file_extension": ".py",
   "mimetype": "text/x-python",
   "name": "python",
   "nbconvert_exporter": "python",
   "pygments_lexer": "ipython3",
   "version": "3.7.2"
  }
 },
 "nbformat": 4,
 "nbformat_minor": 2
}
