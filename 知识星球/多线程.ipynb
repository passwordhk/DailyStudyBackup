{
 "cells": [
  {
   "cell_type": "code",
   "execution_count": 4,
   "metadata": {},
   "outputs": [
    {
     "name": "stdout",
     "output_type": "stream",
     "text": [
      "程序开始！\n",
      "程序结束，takeANap目前还没有运行！\n",
      "程序睡了5s，takeANap运行\n"
     ]
    }
   ],
   "source": [
    "import threading\n",
    "import time\n",
    "print('程序开始！')\n",
    "def takeANap():\n",
    "    time.sleep(5)\n",
    "    print('程序睡了5s，takeANap运行')\n",
    "threadObj = threading.Thread(target=takeANap)\n",
    "threadObj.start()\n",
    "print('程序结束，takeANap目前还没有运行！')"
   ]
  },
  {
   "cell_type": "code",
   "execution_count": 6,
   "metadata": {},
   "outputs": [
    {
     "name": "stdout",
     "output_type": "stream",
     "text": [
      "dos & sss0 & sssa\n"
     ]
    }
   ],
   "source": [
    "print('dos','sss0','sssa',sep=' & ')"
   ]
  },
  {
   "cell_type": "code",
   "execution_count": 8,
   "metadata": {},
   "outputs": [],
   "source": [
    "threadObj1 = threading.Thread(target=print,args = ['Cats','Dogs','Snake'],\\\n",
    "                              kwargs={'sep':' & '})"
   ]
  },
  {
   "cell_type": "code",
   "execution_count": 9,
   "metadata": {},
   "outputs": [
    {
     "name": "stdout",
     "output_type": "stream",
     "text": [
      "Cats & Dogs & Snake\n"
     ]
    }
   ],
   "source": [
    "threadObj1.start()"
   ]
  },
  {
   "cell_type": "code",
   "execution_count": null,
   "metadata": {},
   "outputs": [],
   "source": []
  }
 ],
 "metadata": {
  "kernelspec": {
   "display_name": "Python 3",
   "language": "python",
   "name": "python3"
  },
  "language_info": {
   "codemirror_mode": {
    "name": "ipython",
    "version": 3
   },
   "file_extension": ".py",
   "mimetype": "text/x-python",
   "name": "python",
   "nbconvert_exporter": "python",
   "pygments_lexer": "ipython3",
   "version": "3.7.2"
  }
 },
 "nbformat": 4,
 "nbformat_minor": 2
}
