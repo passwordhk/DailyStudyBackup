{
 "cells": [
  {
   "cell_type": "markdown",
   "metadata": {},
   "source": [
    "### plotly 没有独立的线形图函数！！！而是把线形图与散点图全部用Scatter函数实现！！  Fuck!"
   ]
  },
  {
   "cell_type": "code",
   "execution_count": 26,
   "metadata": {},
   "outputs": [],
   "source": [
    "import plotly as py\n",
    "import plotly.graph_objs as go\n",
    "import numpy as np"
   ]
  },
  {
   "cell_type": "code",
   "execution_count": 3,
   "metadata": {},
   "outputs": [],
   "source": [
    "# 自定义绘制函数\n",
    "pyplt = py.offline.plot"
   ]
  },
  {
   "cell_type": "code",
   "execution_count": 8,
   "metadata": {},
   "outputs": [],
   "source": [
    "# 数据准备\n",
    "N =100\n",
    "random_x = np.linspace(0,1,N)\n",
    "random_y0 = np.random.randn(N)+5\n",
    "random_y1 = np.random.randn(N)\n",
    "random_y2 = np.random.randn(N)-5"
   ]
  },
  {
   "cell_type": "code",
   "execution_count": 19,
   "metadata": {},
   "outputs": [],
   "source": [
    "# 创建轨迹\n",
    "trace0 = go.Scatter(x=random_x,\n",
    "                    y=random_y0,\n",
    "                    mode = 'markers' ,# 纯散点图的绘图模式，\n",
    "                    name = 'markers' # 曲线名称\n",
    "                   )\n",
    "\n",
    "trace1 = go.Scatter(x=random_x,\n",
    "                    y=random_y1,\n",
    "                    mode = 'lines + markers', # 散点+线 混合\n",
    "                    name = 'lines + markers' \n",
    "                   )  \n",
    "\n",
    "trace2 = go.Scatter(x=random_x,\n",
    "                    y=random_y2,\n",
    "                    mode = 'lines',  # 纯线绘图\n",
    "                    name = 'lines',\n",
    "                   )"
   ]
  },
  {
   "cell_type": "code",
   "execution_count": 24,
   "metadata": {},
   "outputs": [
    {
     "data": {
      "text/plain": [
       "'file:///Users/huangkai/Documents/DailyStudyBackup/Plotly/散点图/1.html'"
      ]
     },
     "execution_count": 24,
     "metadata": {},
     "output_type": "execute_result"
    }
   ],
   "source": [
    "data = [trace0,trace1,trace2]\n",
    "# pyplt(data,filename = '1.html')\n",
    "pyplt(data,filename = '1.html',image='png')"
   ]
  },
  {
   "cell_type": "markdown",
   "metadata": {},
   "source": [
    "![](1.png)"
   ]
  },
  {
   "cell_type": "code",
   "execution_count": null,
   "metadata": {},
   "outputs": [],
   "source": [
    "### ’![](1.png)‘   上图Markdown插入相对路径图片的语法 ###"
   ]
  },
  {
   "cell_type": "code",
   "execution_count": null,
   "metadata": {},
   "outputs": [],
   "source": []
  }
 ],
 "metadata": {
  "kernelspec": {
   "display_name": "Python 3",
   "language": "python",
   "name": "python3"
  },
  "language_info": {
   "codemirror_mode": {
    "name": "ipython",
    "version": 3
   },
   "file_extension": ".py",
   "mimetype": "text/x-python",
   "name": "python",
   "nbconvert_exporter": "python",
   "pygments_lexer": "ipython3",
   "version": "3.7.2"
  }
 },
 "nbformat": 4,
 "nbformat_minor": 2
}
