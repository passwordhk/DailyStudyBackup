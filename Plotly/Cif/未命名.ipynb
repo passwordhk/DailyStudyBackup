{
 "cells": [
  {
   "cell_type": "code",
   "execution_count": 5,
   "metadata": {},
   "outputs": [],
   "source": [
    "with open('output.cif') as f:\n",
    "    a=f.readlines()\n",
    "    for i,j in enumerate(a):\n",
    "        if j.startswith('_atom_site_occupancy'):\n",
    "            new = a[i+1:]\n",
    "            \n",
    "#     print(new)\n",
    "    coordinate = [['x','y','z']]\n",
    "    for i in new:\n",
    "        coordinate.append(i.split('\\t')[2:5])\n",
    "#     print(coordinate)\n",
    "f2 = open('out_cif.out','w')\n",
    "for i in coordinate:\n",
    "    f2.write(','.join(i)+'\\n')\n",
    "f2.close()\n",
    "\n",
    "f3 = open('1.csv','w')\n",
    "a=[['atom','type','x','y','z']]\n",
    "for i in new:\n",
    "    a.append(i.split('\\t')[0:5])\n",
    "for i in a:\n",
    "    f3.write(','.join(i)+'\\n')\n",
    "f3.close()\n",
    "        \n",
    "    "
   ]
  },
  {
   "cell_type": "code",
   "execution_count": 6,
   "metadata": {},
   "outputs": [
    {
     "data": {
      "text/plain": [
       "'file:///Users/huangkai/Documents/DailyStudyBackup/Plotly/Cif/3d point clustering.html'"
      ]
     },
     "execution_count": 6,
     "metadata": {},
     "output_type": "execute_result"
    }
   ],
   "source": [
    "import pandas as pd\n",
    "import plotly as py\n",
    "import plotly.graph_objs as pygo\n",
    "df = pd.read_csv(r'1.csv')\n",
    "\n",
    "df.head()\n",
    "\n",
    "scatter = dict(\n",
    "    mode = \"markers\",\n",
    "    name = \"y\",\n",
    "    type = \"scatter3d\",    \n",
    "    x = df['x'], y = df['y'], z = df['z'],\n",
    "    marker = dict( size=2, color=\"rgb(23, 190, 207)\" )\n",
    ")\n",
    "clusters = dict(\n",
    "    alphahull = 7,\n",
    "    name = \"y\",\n",
    "    opacity = 0.1,\n",
    "    type = \"mesh3d\",    \n",
    "    x = df['x'], y = df['y'], z = df['z']\n",
    ")\n",
    "layout = dict(\n",
    "    title = '3d point clustering',\n",
    "    scene = dict(\n",
    "        xaxis = dict( zeroline=False ),\n",
    "        yaxis = dict( zeroline=False ),\n",
    "        zaxis = dict( zeroline=False ),\n",
    "    )\n",
    ")\n",
    "fig = dict( data=[scatter, clusters], layout=layout )\n",
    "# Use py.iplot() for IPython notebook\n",
    "py.offline.plot(fig, filename='3d point clustering.html')"
   ]
  },
  {
   "cell_type": "code",
   "execution_count": null,
   "metadata": {},
   "outputs": [],
   "source": []
  }
 ],
 "metadata": {
  "kernelspec": {
   "display_name": "Python 3",
   "language": "python",
   "name": "python3"
  },
  "language_info": {
   "codemirror_mode": {
    "name": "ipython",
    "version": 3
   },
   "file_extension": ".py",
   "mimetype": "text/x-python",
   "name": "python",
   "nbconvert_exporter": "python",
   "pygments_lexer": "ipython3",
   "version": "3.7.2"
  }
 },
 "nbformat": 4,
 "nbformat_minor": 2
}
