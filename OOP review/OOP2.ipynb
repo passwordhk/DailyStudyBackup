{
 "cells": [
  {
   "cell_type": "markdown",
   "metadata": {},
   "source": [
    "# 面向对象封装案例"
   ]
  },
  {
   "cell_type": "code",
   "execution_count": 57,
   "metadata": {},
   "outputs": [],
   "source": [
    "class Person:\n",
    "    def __init__(self,name,weight):\n",
    "        self.name = name\n",
    "        self.weight = weight\n",
    "        \n",
    "    def exercise(self):\n",
    "        try:\n",
    "            self.weight -= 0.5\n",
    "            assert 10<self.weight<180 \n",
    "            print(f'{self.name}现在的体重为{self.weight}')\n",
    "        except AssertionError:\n",
    "            print('体重必须大于零!')\n",
    "        \n",
    "        \n",
    "    def eat(self):\n",
    "        self.weight += 1\n",
    "        print(f'{self.name}现在的体重为{self.weight}')\n",
    "    def __str__(self):\n",
    "        return f'My name\\'s {self.name} weight {self.weight} kg!'"
   ]
  },
  {
   "cell_type": "code",
   "execution_count": 58,
   "metadata": {},
   "outputs": [],
   "source": [
    "xiaoming = Person('小明',50)"
   ]
  },
  {
   "cell_type": "code",
   "execution_count": 59,
   "metadata": {},
   "outputs": [
    {
     "name": "stdout",
     "output_type": "stream",
     "text": [
      "小明现在的体重为49.5\n",
      "小明现在的体重为49.0\n",
      "小明现在的体重为48.5\n"
     ]
    }
   ],
   "source": [
    "xiaoming.exercise()\n",
    "xiaoming.exercise()\n",
    "xiaoming.exercise()"
   ]
  },
  {
   "cell_type": "code",
   "execution_count": 61,
   "metadata": {},
   "outputs": [],
   "source": [
    "xiaomei = Person('美羊羊',45)"
   ]
  },
  {
   "cell_type": "code",
   "execution_count": 62,
   "metadata": {},
   "outputs": [
    {
     "name": "stdout",
     "output_type": "stream",
     "text": [
      "美羊羊现在的体重为46\n",
      "美羊羊现在的体重为45.5\n"
     ]
    }
   ],
   "source": [
    "xiaomei.eat()\n",
    "xiaomei.exercise()"
   ]
  },
  {
   "cell_type": "markdown",
   "metadata": {},
   "source": [
    "## 摆放家具"
   ]
  },
  {
   "cell_type": "code",
   "execution_count": 113,
   "metadata": {},
   "outputs": [],
   "source": [
    "class House:\n",
    "    def __init__(self,house_type,area):\n",
    "        self.house_type = house_type\n",
    "        self.area = area\n",
    "        self.free_area = self.area\n",
    "        self.forniture = []\n",
    "        \n",
    "    def add(self,item):\n",
    "        # 1判断面积\n",
    "        if item.area > self.free_area:\n",
    "            print(f'{item.name}面积大于剩余面积')\n",
    "            return # return后面的就不执行了\n",
    "        \n",
    "        # 2添加到家具列表\n",
    "        self.forniture.append(item.name)\n",
    "        # 3计算剩余面积\n",
    "        self.free_area -= item.area   \n",
    "    def __str__(self):\n",
    "        return f'这个房子{self.house_type} 面积{self.area} 剩余面积{self.free_area} 家具 {self.forniture} '\n",
    "\n",
    "    \n",
    "class Forniture:\n",
    "    def __init__(self,name,area):\n",
    "        self.name = name\n",
    "        self.area = area\n",
    "    \n",
    "    def __str__(self):\n",
    "        return f'{self.name} 占地{self.name}'\n",
    "        "
   ]
  },
  {
   "cell_type": "code",
   "execution_count": 114,
   "metadata": {},
   "outputs": [],
   "source": [
    "bed = Forniture('床',4)\n",
    "chest = Forniture('柜子',2)\n",
    "table = Forniture('床桌',1.5)"
   ]
  },
  {
   "cell_type": "code",
   "execution_count": 115,
   "metadata": {},
   "outputs": [],
   "source": [
    "myhome = House('单间',8)"
   ]
  },
  {
   "cell_type": "code",
   "execution_count": 116,
   "metadata": {},
   "outputs": [],
   "source": [
    "myhome.add(bed)"
   ]
  },
  {
   "cell_type": "code",
   "execution_count": 117,
   "metadata": {},
   "outputs": [],
   "source": [
    "myhome.add(chest)"
   ]
  },
  {
   "cell_type": "code",
   "execution_count": 118,
   "metadata": {},
   "outputs": [],
   "source": [
    "myhome.add(table)"
   ]
  },
  {
   "cell_type": "code",
   "execution_count": 119,
   "metadata": {},
   "outputs": [
    {
     "name": "stdout",
     "output_type": "stream",
     "text": [
      "这个房子单间 面积8 剩余面积0.5 家具 ['床', '柜子', '床桌'] \n"
     ]
    }
   ],
   "source": [
    "print(myhome)"
   ]
  },
  {
   "cell_type": "code",
   "execution_count": 120,
   "metadata": {},
   "outputs": [
    {
     "name": "stdout",
     "output_type": "stream",
     "text": [
      "床面积大于剩余面积\n"
     ]
    }
   ],
   "source": [
    "myhome.add(bed)"
   ]
  },
  {
   "cell_type": "code",
   "execution_count": null,
   "metadata": {},
   "outputs": [],
   "source": []
  }
 ],
 "metadata": {
  "kernelspec": {
   "display_name": "Python 3",
   "language": "python",
   "name": "python3"
  },
  "language_info": {
   "codemirror_mode": {
    "name": "ipython",
    "version": 3
   },
   "file_extension": ".py",
   "mimetype": "text/x-python",
   "name": "python",
   "nbconvert_exporter": "python",
   "pygments_lexer": "ipython3",
   "version": "3.7.2"
  }
 },
 "nbformat": 4,
 "nbformat_minor": 2
}
