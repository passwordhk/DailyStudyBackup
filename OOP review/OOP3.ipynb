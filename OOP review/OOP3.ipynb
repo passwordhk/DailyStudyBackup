{
 "cells": [
  {
   "cell_type": "markdown",
   "metadata": {},
   "source": [
    "# 面向对象封装案例2"
   ]
  },
  {
   "cell_type": "markdown",
   "metadata": {},
   "source": [
    "### 一个对象的属性，可以是另外一个类创建的对象"
   ]
  },
  {
   "cell_type": "code",
   "execution_count": 1,
   "metadata": {},
   "outputs": [],
   "source": [
    "class Gun:\n",
    "    def __init__(self,model):\n",
    "        self.model = model\n",
    "        self.bullet_count = 0\n",
    "    \n",
    "    def add_bullet(self,count):\n",
    "        self.bullet_count += count\n",
    "        \n",
    "    def shoot(self):\n",
    "        if self.bullet_count <= 0:\n",
    "            print(f'{self.model}没有子弹了！清装填')\n",
    "            return  # return大发好\n",
    "        self.bullet_count -= 1\n",
    "        print(f'{self.model}砰！ 剩余子弹{self.bullet_count}')"
   ]
  },
  {
   "cell_type": "code",
   "execution_count": 17,
   "metadata": {},
   "outputs": [],
   "source": [
    "class Soldier:\n",
    "    '''假设新兵没有枪'''\n",
    "    def __init__(self,name):\n",
    "        self.name = name\n",
    "        self.gun = None # 新兵没有枪，None大法好\n",
    "    \n",
    "    def fire(self):\n",
    "        if not self.gun:\n",
    "            print(f'{self.name}还没有枪支！')\n",
    "            return\n",
    "        \n",
    "        print('武器完毕！')\n",
    "        if self.gun.bullet_count ==0:\n",
    "            self.gun.add_bullet(10)  # 枪不会自己开枪和装子弹\n",
    "        \n",
    "        self.gun.shoot()"
   ]
  },
  {
   "cell_type": "code",
   "execution_count": 18,
   "metadata": {},
   "outputs": [],
   "source": [
    "capitain = Soldier('美队')\n",
    "AWM = Gun('AWM')"
   ]
  },
  {
   "cell_type": "code",
   "execution_count": 19,
   "metadata": {},
   "outputs": [
    {
     "name": "stdout",
     "output_type": "stream",
     "text": [
      "None\n"
     ]
    }
   ],
   "source": [
    "print(capitain.gun)"
   ]
  },
  {
   "cell_type": "code",
   "execution_count": 20,
   "metadata": {},
   "outputs": [],
   "source": [
    "capitain.gun = AWM"
   ]
  },
  {
   "cell_type": "code",
   "execution_count": 21,
   "metadata": {},
   "outputs": [
    {
     "name": "stdout",
     "output_type": "stream",
     "text": [
      "<__main__.Gun object at 0x10b9b4c50>\n"
     ]
    }
   ],
   "source": [
    "print(capitain.gun) # 现在有枪了"
   ]
  },
  {
   "cell_type": "code",
   "execution_count": 22,
   "metadata": {},
   "outputs": [],
   "source": [
    "capitain.gun.add_bullet(10)"
   ]
  },
  {
   "cell_type": "code",
   "execution_count": 33,
   "metadata": {},
   "outputs": [
    {
     "name": "stdout",
     "output_type": "stream",
     "text": [
      "武器完毕！\n",
      "AWM砰！ 剩余子弹9\n"
     ]
    }
   ],
   "source": [
    "capitain.fire()"
   ]
  },
  {
   "cell_type": "code",
   "execution_count": null,
   "metadata": {},
   "outputs": [],
   "source": []
  }
 ],
 "metadata": {
  "kernelspec": {
   "display_name": "Python 3",
   "language": "python",
   "name": "python3"
  },
  "language_info": {
   "codemirror_mode": {
    "name": "ipython",
    "version": 3
   },
   "file_extension": ".py",
   "mimetype": "text/x-python",
   "name": "python",
   "nbconvert_exporter": "python",
   "pygments_lexer": "ipython3",
   "version": "3.7.2"
  }
 },
 "nbformat": 4,
 "nbformat_minor": 2
}
