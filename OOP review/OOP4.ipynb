{
 "cells": [
  {
   "cell_type": "markdown",
   "metadata": {},
   "source": [
    "# 继承"
   ]
  },
  {
   "cell_type": "code",
   "execution_count": 39,
   "metadata": {},
   "outputs": [],
   "source": [
    "class Animal:\n",
    "    def __init__(self):\n",
    "        pass\n",
    "    def eat(self):\n",
    "        print('eat!')\n",
    "    def drink(self):\n",
    "        print('drink~~~咕嘟咕嘟')\n",
    "    def run(self):\n",
    "        print('run')\n",
    "    def sleep(self):\n",
    "        print('sleep')\n",
    "        \n",
    "class Dog(Animal):\n",
    "    def __init__(self):\n",
    "        pass\n",
    "    \n",
    "    def bark(self):\n",
    "        print('wang~')\n",
    "        \n",
    "class XiaoTianDog(Dog):\n",
    "    def __init__(self):\n",
    "        pass\n",
    "    def fly(self):\n",
    "        print('fly')\n",
    "    "
   ]
  },
  {
   "cell_type": "code",
   "execution_count": 8,
   "metadata": {},
   "outputs": [
    {
     "name": "stdout",
     "output_type": "stream",
     "text": [
      "eat!\n",
      "drink\n",
      "sleep\n"
     ]
    }
   ],
   "source": [
    "# 创建一个对象\n",
    "wangcai = Animal()\n",
    "wangcai.eat()\n",
    "wangcai.drink()\n",
    "wangcai.sleep()"
   ]
  },
  {
   "cell_type": "code",
   "execution_count": 11,
   "metadata": {},
   "outputs": [
    {
     "name": "stdout",
     "output_type": "stream",
     "text": [
      "sleep\n",
      "run\n"
     ]
    }
   ],
   "source": [
    "dog  = Dog()\n",
    "dog.sleep()\n",
    "dog.run()"
   ]
  },
  {
   "cell_type": "markdown",
   "metadata": {},
   "source": [
    "## # 子类拥有父类与爷爷辈的方法"
   ]
  },
  {
   "cell_type": "code",
   "execution_count": 15,
   "metadata": {},
   "outputs": [
    {
     "name": "stdout",
     "output_type": "stream",
     "text": [
      "run\n",
      "drink\n",
      "fly\n"
     ]
    }
   ],
   "source": [
    "xiaotian = XiaoTianDog() \n",
    "xiaotian.run()\n",
    "xiaotian.drink()\n",
    "xiaotian.fly()"
   ]
  },
  {
   "cell_type": "markdown",
   "metadata": {},
   "source": [
    "# 方法的重写"
   ]
  },
  {
   "cell_type": "markdown",
   "metadata": {},
   "source": [
    "### 当父类方法不能满足子类需求的时候，可以对方法进行重写"
   ]
  },
  {
   "cell_type": "markdown",
   "metadata": {},
   "source": [
    "### 在子类中定义一个和父类同名的方法并且实现"
   ]
  },
  {
   "cell_type": "code",
   "execution_count": 49,
   "metadata": {},
   "outputs": [],
   "source": [
    "class Person(Animal):\n",
    "    def __init__(self):\n",
    "        pass\n",
    "    \n",
    "    def drink(self):\n",
    "        print('人类优雅的喝假酒！')\n",
    "        \n",
    "        super().drink()\n",
    "#         Animal.drink(self)     # 不推荐使用，一旦父类改变全部要改变"
   ]
  },
  {
   "cell_type": "code",
   "execution_count": 50,
   "metadata": {},
   "outputs": [],
   "source": [
    "a = Person()"
   ]
  },
  {
   "cell_type": "code",
   "execution_count": 51,
   "metadata": {},
   "outputs": [
    {
     "name": "stdout",
     "output_type": "stream",
     "text": [
      "人类优雅的喝假酒！\n",
      "drink~~~咕嘟咕嘟\n"
     ]
    }
   ],
   "source": [
    "a.drink()"
   ]
  },
  {
   "cell_type": "markdown",
   "metadata": {},
   "source": [
    "## super() 拓展父类方法，父类方法有时候要用，有时候重写"
   ]
  },
  {
   "cell_type": "code",
   "execution_count": null,
   "metadata": {},
   "outputs": [],
   "source": []
  }
 ],
 "metadata": {
  "kernelspec": {
   "display_name": "Python 3",
   "language": "python",
   "name": "python3"
  },
  "language_info": {
   "codemirror_mode": {
    "name": "ipython",
    "version": 3
   },
   "file_extension": ".py",
   "mimetype": "text/x-python",
   "name": "python",
   "nbconvert_exporter": "python",
   "pygments_lexer": "ipython3",
   "version": "3.7.2"
  }
 },
 "nbformat": 4,
 "nbformat_minor": 2
}
