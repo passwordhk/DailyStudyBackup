{
 "cells": [
  {
   "cell_type": "code",
   "execution_count": 20,
   "metadata": {},
   "outputs": [
    {
     "name": "stdout",
     "output_type": "stream",
     "text": [
      "['ITEM: TIMESTEP']\n",
      "['2201000']\n",
      "['ITEM: NUMBER OF ATOMS']\n",
      "['1062']\n",
      "['ITEM: BOX BOUNDS pp pp pp']\n",
      "['-1.9773499999999999e+01 2.0928500000000000e+01']\n",
      "['8.2704989999999992e+00 4.8972498999999999e+01']\n",
      "['4.1360000000000001e+00 4.4838000000000001e+01']\n",
      "['ITEM: ATOMS id type xs ys zs']\n",
      "['904 1 0.045827 0.0962654 0.122685']\n"
     ]
    }
   ],
   "source": [
    "with open('/Users/huangkai/Desktop/dump2clif/dump4.atom','r') as f:\n",
    "    for i in range(10):\n",
    "        i = f.readline().strip().split('\\n')\n",
    "        print(i)"
   ]
  },
  {
   "cell_type": "code",
   "execution_count": null,
   "metadata": {},
   "outputs": [],
   "source": []
  },
  {
   "cell_type": "code",
   "execution_count": null,
   "metadata": {},
   "outputs": [],
   "source": []
  }
 ],
 "metadata": {
  "kernelspec": {
   "display_name": "Python 3",
   "language": "python",
   "name": "python3"
  },
  "language_info": {
   "codemirror_mode": {
    "name": "ipython",
    "version": 3
   },
   "file_extension": ".py",
   "mimetype": "text/x-python",
   "name": "python",
   "nbconvert_exporter": "python",
   "pygments_lexer": "ipython3",
   "version": "3.7.2"
  }
 },
 "nbformat": 4,
 "nbformat_minor": 2
}
