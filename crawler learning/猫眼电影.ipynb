{
 "cells": [
  {
   "cell_type": "code",
   "execution_count": null,
   "metadata": {},
   "outputs": [],
   "source": [
    "import requests\n",
    "from requests.exceptions import RequestException\n",
    "import re\n",
    "def get_one_page(url):\n",
    "    try:\n",
    "        response = requests.get(url)\n",
    "        if response.status_code == 200:\n",
    "            return response.text\n",
    "        return None\n",
    "    except RequestException:\n",
    "        return None\n",
    "    \n",
    "def parse_one_page(html):\n",
    "    pattern = re.compile(r'<dd>.*?board-index.*>(\\d+)</i>.*data-src=\"(.*?)\".*?name\"><a.*?>(.*?)</a>.*?star\">(.*?)</p>.*?releasetime\">(.*?)</p>.*?>integer\">(.*?)</i>.*?fraction\">(.*?)</i>.*?</dd>',re.S)\n",
    "    items = re.findall(pattern,html)\n",
    "    print(items)\n",
    "\n",
    "def main():\n",
    "    url = 'http://maoyan.com/board/4?'\n",
    "    html = get_one_page(url)\n",
    "    parse_one_page(html)\n",
    "#     print(html)\n",
    "if __name__=='__main__':\n",
    "    main()"
   ]
  },
  {
   "cell_type": "code",
   "execution_count": null,
   "metadata": {},
   "outputs": [],
   "source": []
  }
 ],
 "metadata": {
  "kernelspec": {
   "display_name": "Python 3",
   "language": "python",
   "name": "python3"
  },
  "language_info": {
   "codemirror_mode": {
    "name": "ipython",
    "version": 3
   },
   "file_extension": ".py",
   "mimetype": "text/x-python",
   "name": "python",
   "nbconvert_exporter": "python",
   "pygments_lexer": "ipython3",
   "version": "3.7.2"
  }
 },
 "nbformat": 4,
 "nbformat_minor": 2
}
