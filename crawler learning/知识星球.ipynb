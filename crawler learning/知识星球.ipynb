{
 "cells": [
  {
   "cell_type": "code",
   "execution_count": 4,
   "metadata": {},
   "outputs": [],
   "source": [
    "import requests \n",
    "from requests import RequestException\n",
    "import re\n",
    "import json"
   ]
  },
  {
   "cell_type": "code",
   "execution_count": 24,
   "metadata": {},
   "outputs": [],
   "source": [
    "def get_page(url):\n",
    "    try:\n",
    "        headers = {'accept': \"application/json, text/plain, */*\",\n",
    "                    'accept-encoding': \"gzip, deflate, br\",\n",
    "                    'accept-language': \"en,zh-CN;q=0.9,zh;q=0.8,zh-TW;q=0.7\",\n",
    "                    'user-agent': \"Mozilla/5.0 (Macintosh; Intel Mac OS X 10_14_3) AppleWebKit/537.36 (KHTML, like Gecko) Chrome/73.0.3683.103 Safari/537.36\",\n",
    "                    'cookie' : '_uab_collina=155209551008218263663793; upload_channel=qiniu; ws_address=wss%3A//ws.zsxq.com/ws%3Fversion%3Dv1.10%26access_token%3D7354A7B5-BD0F-FC6B-77F7-DF55D4DAEEBF; user_id=48285181142148; name=superadmin; avatar_url=https%3A//images.zsxq.com/FkAlF_oJR7I509FrUt5O0m25QYbf%3Fe%3D1906272000%26token%3DkIxbL07-8jAj8w1n4s9zv64FuZZNEATmlU_Vm6zD%3Aznj5c7Tb2f1F4Yu9P8Bk7FDSQCc%3D; sensorsdata2015jssdkcross=%7B%22distinct_id%22%3A%2216a260d16fae9-0907998bfde48b-7a296633-190296-16a260d16fb6a8%22%2C%22%24device_id%22%3A%2216a260d16fae9-0907998bfde48b-7a296633-190296-16a260d16fb6a8%22%2C%22props%22%3A%7B%22%24latest_traffic_source_type%22%3A%22%E7%9B%B4%E6%8E%A5%E6%B5%81%E9%87%8F%22%2C%22%24latest_referrer%22%3A%22%22%2C%22%24latest_referrer_host%22%3A%22%22%2C%22%24latest_search_keyword%22%3A%22%E6%9C%AA%E5%8F%96%E5%88%B0%E5%80%BC_%E7%9B%B4%E6%8E%A5%E6%89%93%E5%BC%80%22%7D%7D; m_target=https://wx.zsxq.com/mweb/views/joingroup/join_group.html?group_id=518858821154; zsxq_access_token=7354A7B5-BD0F-FC6B-77F7-DF55D4DAEEBF'}\n",
    "        response = requests.get(url,headers=headers)\n",
    "        if response.status_code == 200:\n",
    "            return response\n",
    "        return None\n",
    "    except RequestException:\n",
    "        return None"
   ]
  },
  {
   "cell_type": "code",
   "execution_count": 28,
   "metadata": {},
   "outputs": [],
   "source": [
    "import datetime\n",
    "from urllib import parse\n",
    "def parse_content(temp_content):\n",
    "    try:\n",
    "        out_temp = temp_content.get('topic').get('talk')\n",
    "        if 'images' in out_temp.keys():\n",
    "            li = out_temp.get('images')\n",
    "            b = out_temp.get('text')\n",
    "            a = []\n",
    "            for i in li:\n",
    "                a.append(i.get('large').get('url'))    \n",
    "            return a, b\n",
    "\n",
    "        else:\n",
    "#             return re.findall(r'.*?type=ha.*?>(.*?).*?',out_temp.get('text'),re.S)[0] \n",
    "            return out_temp.get('text')\n",
    "    except Exception as e:\n",
    "        print('error')\n",
    "    \n",
    "def parse_json(json):\n",
    "    tmp_content = json.get(\"resp_data\").get(\"topics\")\n",
    "#     pattern_content = re.compile(r'{'owner'.*?<e type.*?/>(.*?)')\n",
    "    for element_content in tmp_content:\n",
    "        temp_dict = {}\n",
    "        user_name = element_content.get('topic').get('talk').get('owner').get('name')\n",
    "        raw_time = element_content.get('topic').get('create_time')[:-9].replace('T',' ')\n",
    "        content = parse_content(element_content)\n",
    "        \n",
    "        temp_dict['name'] = user_name\n",
    "        temp_dict['time'] = raw_time\n",
    "        temp_dict['content'] = content\n",
    "        yield temp_dict\n",
    "\n",
    "def write_to_file(x):\n",
    "    with open('out.csv','a',encoding='utf-8') as f:\n",
    "        f.write(json.dumps(x,ensure_ascii=False)+'\\n')\n",
    "        \n",
    "def main():\n",
    "    pass\n",
    "\n",
    "first = get_page('https://api.zsxq.com/v1.10/search/all?count=10&scope=joined&keyword=2019%E5%AE%9E%E6%88%98%E7%AC%AC%E4%BA%8C%E6%9C%9F').json()\n",
    "for i in parse_json(first):\n",
    "    write_to_file(i)\n",
    "    \n",
    "offset = [11,41,71,101,131,161]\n",
    "for i in offset:\n",
    "    raw_dict = get_page(f'https://api.zsxq.com/v1.10/search/all?count=10&scope=joined&index={i}&keyword=2019%E7%AC%AC%E4%BA%8C%E6%9C%9F%E5%AE%9E%E6%88%98').json()\n",
    "# topics = raw_dict.get(\"resp_data\").get(\"topics\")\n",
    "    for j in parse_json(raw_dict):\n",
    "        write_to_file(j)"
   ]
  },
  {
   "cell_type": "code",
   "execution_count": null,
   "metadata": {},
   "outputs": [],
   "source": [
    "\n"
   ]
  },
  {
   "cell_type": "code",
   "execution_count": null,
   "metadata": {},
   "outputs": [],
   "source": []
  },
  {
   "cell_type": "code",
   "execution_count": null,
   "metadata": {},
   "outputs": [],
   "source": []
  },
  {
   "cell_type": "code",
   "execution_count": null,
   "metadata": {},
   "outputs": [],
   "source": []
  }
 ],
 "metadata": {
  "kernelspec": {
   "display_name": "Python 3",
   "language": "python",
   "name": "python3"
  },
  "language_info": {
   "codemirror_mode": {
    "name": "ipython",
    "version": 3
   },
   "file_extension": ".py",
   "mimetype": "text/x-python",
   "name": "python",
   "nbconvert_exporter": "python",
   "pygments_lexer": "ipython3",
   "version": "3.7.2"
  }
 },
 "nbformat": 4,
 "nbformat_minor": 2
}
